{
 "cells": [
  {
   "cell_type": "code",
   "execution_count": null,
   "metadata": {},
   "outputs": [],
   "source": [
    "import requests\n",
    "import json\n",
    "\n",
    "# URL of your deployed fraud detection model API\n",
    "url = \"https://credit-card-ml-model.onrender.com/predict\"  # Use your actual deployed URL when ready\n",
    "\n",
    "# Sample transaction data\n",
    "transaction_data = {\n",
    "    \"merchant\": \"fraud_Parker, Nolan and Trantow\",\n",
    "    \"category\": \"entertainment\",\n",
    "    \"amt\": 20.17,\n",
    "    \"gender\": \"F\",\n",
    "    \"zip\": 98238,\n",
    "    \"lat\": 48.3400,\n",
    "    \"long\": -122.3456,\n",
    "    \"city_pop\": 85,\n",
    "    \"merch_lat\": 47.373663,\n",
    "    \"merch_long\": -122.739095,\n",
    "    \"transaction_hour\": 19,\n",
    "    \"transaction_dayofweek\": 1,\n",
    "    \"transaction_month\": 12,\n",
    "    \"birth_year\": 1984,\n",
    "    \"birth_month\": 9,\n",
    "    \"birth_day\": 1\n",
    "}\n",
    "\n",
    "# Send POST request\n",
    "response = requests.post(url, json=transaction_data)\n",
    "\n",
    "# Check if the request was successful\n",
    "if response.status_code == 200:\n",
    "    # Parse the JSON response\n",
    "    result = response.json()\n",
    "    print(result)\n",
    "else:\n",
    "    print(\"Error:\", response.status_code, response.text)\n"
   ]
  }
 ],
 "metadata": {
  "language_info": {
   "name": "python"
  }
 },
 "nbformat": 4,
 "nbformat_minor": 2
}
